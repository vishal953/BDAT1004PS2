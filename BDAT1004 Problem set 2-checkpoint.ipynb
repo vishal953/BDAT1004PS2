{
 "cells": [
  {
   "cell_type": "markdown",
   "metadata": {},
   "source": [
    "# Question 1"
   ]
  },
  {
   "cell_type": "code",
   "execution_count": 1,
   "metadata": {},
   "outputs": [
    {
     "name": "stdout",
     "output_type": "stream",
     "text": [
      "None\n",
      "None\n",
      "None\n",
      "6\n"
     ]
    }
   ],
   "source": [
    "a=0\n",
    "def b():\n",
    "    global a\n",
    "    a= c(a)\n",
    "def c(a):\n",
    "    return a+2\n",
    "print(b())\n",
    "print(b())\n",
    "print(b())\n",
    "print(a)"
   ]
  },
  {
   "cell_type": "markdown",
   "metadata": {},
   "source": [
    "Value of a after last expression is evaluated as 6. Variable a is initialized as 0 at first step. Then in the function b we are making using of variable a by using keyword global so that we can inherit the value of a inside the function b. Function b calls function c with variable a as parameter. Function c returns value addition of variable a and numeric value 2. Since we are performing this action 3 times 2 gets added to variable a 3 times, so value of a is 6."
   ]
  },
  {
   "cell_type": "markdown",
   "metadata": {},
   "source": [
    "# question 2"
   ]
  },
  {
   "cell_type": "code",
   "execution_count": 18,
   "metadata": {},
   "outputs": [
    {
     "name": "stdout",
     "output_type": "stream",
     "text": [
      "File idterm.pynot found.\n"
     ]
    }
   ],
   "source": [
    "def fileLength(name):\n",
    "    try:\n",
    "        file  = open(name,'r')\n",
    "        return len(file)\n",
    "    except FileNotFoundError:\n",
    "        print('File ' + name + 'not found.')\n",
    "fileLength('idterm.py')"
   ]
  },
  {
   "cell_type": "markdown",
   "metadata": {},
   "source": [
    "# question 3"
   ]
  },
  {
   "cell_type": "code",
   "execution_count": 3,
   "metadata": {},
   "outputs": [
    {
     "data": {
      "text/plain": [
       "['doll', 'firetruck', 'kitten']"
      ]
     },
     "execution_count": 3,
     "metadata": {},
     "output_type": "execute_result"
    }
   ],
   "source": [
    "class Marsupial:\n",
    "    def __init__(self):\n",
    "        self.pouch1=[]\n",
    "        \n",
    "        \n",
    "    def put_in_pouch(self,item):\n",
    "        self.pouch1.append(item)\n",
    "        \n",
    "    def pouch_contents(self):\n",
    "        return self.pouch1\n",
    "    \n",
    "m = Marsupial()\n",
    "m.put_in_pouch('doll')\n",
    "m.put_in_pouch('firetruck')\n",
    "m.put_in_pouch('kitten')\n",
    "m.pouch_contents()\n",
    "        "
   ]
  },
  {
   "cell_type": "markdown",
   "metadata": {},
   "source": [
    "# Part 2"
   ]
  },
  {
   "cell_type": "code",
   "execution_count": 4,
   "metadata": {},
   "outputs": [
    {
     "name": "stdout",
     "output_type": "stream",
     "text": [
      "I am a Kangaroo located at coordinates (3, 0)\n"
     ]
    }
   ],
   "source": [
    "class Marsupial:\n",
    "    def __init__(self,x,y):\n",
    "        self.pouch1=[]\n",
    "        \n",
    "        \n",
    "    def put_in_pouch(self,item):\n",
    "        self.pouch1.append(item)\n",
    "        \n",
    "    def pouch_contents(self):\n",
    "        return self.pouch1\n",
    "\n",
    "class Kangaroo(Marsupial):\n",
    "    def __init__(self,x,y):\n",
    "        super().__init__(x,y)\n",
    "        self.dx = x\n",
    "        self.dy = y\n",
    "    \n",
    "    def jump(self,x,y):\n",
    "        self.dx+=x\n",
    "        self.dy+=y\n",
    "    \n",
    "    def __str__(self):\n",
    "        return f'I am a Kangaroo located at coordinates {self.dx,self.dy}'\n",
    "        \n",
    "            \n",
    "k = Kangaroo(0,0)\n",
    "k.put_in_pouch('doll')\n",
    "k.put_in_pouch('firetruck')\n",
    "k.put_in_pouch('kitten')\n",
    "k.pouch_contents()\n",
    "k.jump(1,0)\n",
    "k.jump(1,0)\n",
    "k.jump(1,0)\n",
    "print(k)"
   ]
  },
  {
   "cell_type": "markdown",
   "metadata": {},
   "source": [
    "# question 5"
   ]
  },
  {
   "cell_type": "code",
   "execution_count": 5,
   "metadata": {},
   "outputs": [
    {
     "name": "stdout",
     "output_type": "stream",
     "text": [
      "15\n",
      "46\n",
      "23\n",
      "70\n",
      "35\n",
      "106\n",
      "53\n",
      "160\n",
      "80\n",
      "40\n",
      "20\n",
      "10\n",
      "5\n",
      "16\n",
      "8\n",
      "4\n",
      "2\n",
      "1\n"
     ]
    }
   ],
   "source": [
    "def function(x):\n",
    "    print(x)\n",
    "    while x!=1:\n",
    "        if x%2==0:\n",
    "            x=x//2\n",
    "            print(x)\n",
    "        else:\n",
    "            x=3*x+1\n",
    "            print(x)\n",
    "function(15)"
   ]
  },
  {
   "cell_type": "markdown",
   "metadata": {},
   "source": [
    "# question 6"
   ]
  },
  {
   "cell_type": "code",
   "execution_count": 6,
   "metadata": {},
   "outputs": [
    {
     "name": "stdout",
     "output_type": "stream",
     "text": [
      "1010"
     ]
    }
   ],
   "source": [
    "def binary(x):\n",
    "    if x>1:\n",
    "        binary(x//2)\n",
    "    print(x%2,end=\"\")\n",
    "binary(10)"
   ]
  },
  {
   "cell_type": "markdown",
   "metadata": {},
   "source": [
    "# question 7"
   ]
  },
  {
   "cell_type": "code",
   "execution_count": 12,
   "metadata": {},
   "outputs": [
    {
     "name": "stdout",
     "output_type": "stream",
     "text": [
      "W3C Mission\n",
      "Principles\n"
     ]
    }
   ],
   "source": [
    "from html.parser import HTMLParser\n",
    "\n",
    "class MyHTMLParser(HTMLParser):\n",
    "    def __init__(self):\n",
    "        HTMLParser.__init__(self)\n",
    "        self.flag = 0 \n",
    "    def handle_starttag(self, tag, attrs):\n",
    "        if tag == 'h1' or tag == 'h2' or tag == 'h3' or tag == 'h4' or tag=='h4' or tag == 'h6' or tag == 'h6':\n",
    "            self.flag=1\n",
    "        else:\n",
    "            self.flag=0\n",
    "    def handle_data(self, data):\n",
    "        if self.flag and data!='\\n':\n",
    "            print(data)\n",
    "            \n",
    "\n",
    "\n",
    "f = open(\"w3c.html\", \"r\")\n",
    "a=str(f.read())\n",
    "\n",
    "parser = MyHTMLParser()\n",
    "parser.feed(a)"
   ]
  },
  {
   "cell_type": "markdown",
   "metadata": {},
   "source": [
    "# Question 9\n",
    "\n",
    "# SELECT temperature FROM records\n",
    "# SELECT DISTINCT city FROM records\n",
    "# SELECT * FROM records WHERE country='India'\n",
    "# SELECT * FROM records WHERE season='Fall'\n",
    "# SELECT city, country, season FROM records WHERE rain_fall BETWEEN 200 AND 400\n",
    "# SELECT city, country, temp FROM records WHERE temp > 20 ORDER BY temp ASC\n",
    "# SELECT SUM(rain_fall) FROM records WHERE city='Cairo'\n",
    "# SELECT SUM(rain_fall) FROM records GROUP BY season"
   ]
  },
  {
   "cell_type": "markdown",
   "metadata": {},
   "source": [
    "# question 10"
   ]
  },
  {
   "cell_type": "code",
   "execution_count": 10,
   "metadata": {},
   "outputs": [
    {
     "name": "stdout",
     "output_type": "stream",
     "text": [
      "['THE', 'QUICK', 'BROWN', 'FOX', 'JUMPS', 'OVER', 'THE', 'LAZY', 'DOG']\n",
      "['the', 'quick', 'brown', 'fox', 'jumps', 'over', 'the', 'lazy', 'dog']\n",
      "[3, 5, 5, 3, 5, 4, 3, 4, 3]\n",
      "[['THE', 'the', 3], ['QUICK', 'quick', 5], ['BROWN', 'brown', 5], ['FOX', 'fox', 3], ['JUMPS', 'jumps', 5], ['OVER', 'over', 4], ['THE', 'the', 3], ['LAZY', 'lazy', 4], ['DOG', 'dog', 3]]\n",
      "['quick', 'brown', 'jumps', 'over', 'lazy']\n"
     ]
    }
   ],
   "source": [
    "a=['The','quick','brown','fox','jumps','over','the','lazy','dog']\n",
    "list1=[item.upper() for item in a]\n",
    "list2=[item.lower() for item in a]\n",
    "list3=[len(item) for item in a]\n",
    "list4=[[item.upper(),item.lower(),len(item)] for item in a]\n",
    "list5=[item for item in a if len(item)>=4]\n",
    "print(list1)\n",
    "print(list2)\n",
    "print(list3)\n",
    "print(list4)\n",
    "print(list5)"
   ]
  },
  {
   "cell_type": "code",
   "execution_count": null,
   "metadata": {},
   "outputs": [],
   "source": []
  }
 ],
 "metadata": {
  "kernelspec": {
   "display_name": "Python 3",
   "language": "python",
   "name": "python3"
  },
  "language_info": {
   "codemirror_mode": {
    "name": "ipython",
    "version": 3
   },
   "file_extension": ".py",
   "mimetype": "text/x-python",
   "name": "python",
   "nbconvert_exporter": "python",
   "pygments_lexer": "ipython3",
   "version": "3.7.6"
  }
 },
 "nbformat": 4,
 "nbformat_minor": 4
}
